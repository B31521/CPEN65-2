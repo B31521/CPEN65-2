{
  "nbformat": 4,
  "nbformat_minor": 0,
  "metadata": {
    "colab": {
      "provenance": [],
      "authorship_tag": "ABX9TyPgFa+t1Hil6TAfaBN1bNMf",
      "include_colab_link": true
    },
    "kernelspec": {
      "name": "python3",
      "display_name": "Python 3"
    },
    "language_info": {
      "name": "python"
    }
  },
  "cells": [
    {
      "cell_type": "markdown",
      "metadata": {
        "id": "view-in-github",
        "colab_type": "text"
      },
      "source": [
        "<a href=\"https://colab.research.google.com/github/B31521/CPEN65-2/blob/main/Act2_Name_Array.ipynb\" target=\"_parent\"><img src=\"https://colab.research.google.com/assets/colab-badge.svg\" alt=\"Open In Colab\"/></a>"
      ]
    },
    {
      "cell_type": "code",
      "execution_count": 13,
      "metadata": {
        "colab": {
          "base_uri": "https://localhost:8080/"
        },
        "id": "mn8C9wi92BsA",
        "outputId": "830665b6-f759-43e6-a5c4-e9f96ad1e1ea"
      },
      "outputs": [
        {
          "output_type": "stream",
          "name": "stdout",
          "text": [
            "['B', 'i', 'l', 'l', 'y', 'G', 'i', 'l', 's', 'o', 'n', 'R', '.', 'P', 'u', 'l', 'i', 'd', 'o']\n",
            "['o', 'd', 'i', 'l', 'u', 'P', '.', 'R', 'n', 'o', 's', 'l', 'i', 'G', 'y', 'l', 'l', 'i', 'B']\n"
          ]
        }
      ],
      "source": [
        "letters=[c for c in \"BillyGilsonR.Pulido\"]\n",
        "print(letters)\n",
        "\n",
        "reverse = letters[::-1]\n",
        "print(reverse)"
      ]
    },
    {
      "cell_type": "markdown",
      "source": [
        "# **Or** **Alternatively**"
      ],
      "metadata": {
        "id": "E32nGyN48GlE"
      }
    },
    {
      "cell_type": "code",
      "source": [
        "letters=[\"B\",\"i\",\"l\",\"l\",\"y\",\"G\",\"i\",\"l\",\"s\",\"o\",\"n\",\"R\",\".\",\"P\",\"u\",\"l\",\"i\",\"d\",\"o\"]\n",
        "print(letters)\n",
        "\n",
        "letters.reverse()\n",
        "print(letters)"
      ],
      "metadata": {
        "colab": {
          "base_uri": "https://localhost:8080/"
        },
        "id": "-f1dHC4i5r0m",
        "outputId": "dd5558f7-283d-49bb-b049-30fa9bc3613d"
      },
      "execution_count": 16,
      "outputs": [
        {
          "output_type": "stream",
          "name": "stdout",
          "text": [
            "['B', 'i', 'l', 'l', 'y', 'G', 'i', 'l', 's', 'o', 'n', 'R', '.', 'P', 'u', 'l', 'i', 'd', 'o']\n",
            "['o', 'd', 'i', 'l', 'u', 'P', '.', 'R', 'n', 'o', 's', 'l', 'i', 'G', 'y', 'l', 'l', 'i', 'B']\n"
          ]
        }
      ]
    }
  ]
}