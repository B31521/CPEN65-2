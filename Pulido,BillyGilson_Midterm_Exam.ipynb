{
  "nbformat": 4,
  "nbformat_minor": 0,
  "metadata": {
    "colab": {
      "provenance": [],
      "authorship_tag": "ABX9TyPcD7Nymw02plRoGRbzOJqP",
      "include_colab_link": true
    },
    "kernelspec": {
      "name": "python3",
      "display_name": "Python 3"
    },
    "language_info": {
      "name": "python"
    }
  },
  "cells": [
    {
      "cell_type": "markdown",
      "metadata": {
        "id": "view-in-github",
        "colab_type": "text"
      },
      "source": [
        "<a href=\"https://colab.research.google.com/github/B31521/CPEN65-2/blob/main/Pulido%2CBillyGilson_Midterm_Exam.ipynb\" target=\"_parent\"><img src=\"https://colab.research.google.com/assets/colab-badge.svg\" alt=\"Open In Colab\"/></a>"
      ]
    },
    {
      "cell_type": "markdown",
      "source": [
        "1.Write a Python program to create an array of 10 integers and display the array\n",
        "items. Access individual elements through indexes and compute for the sum."
      ],
      "metadata": {
        "id": "dryAlHXiAUJt"
      }
    },
    {
      "cell_type": "code",
      "execution_count": 64,
      "metadata": {
        "colab": {
          "base_uri": "https://localhost:8080/"
        },
        "id": "AFqS9twV_z6I",
        "outputId": "40c1b77b-7f79-4c14-86f4-787cf99bfe21"
      },
      "outputs": [
        {
          "output_type": "stream",
          "name": "stdout",
          "text": [
            "0 3\n",
            "1 4\n",
            "2 6\n",
            "3 9\n",
            "4 13\n",
            "5 18\n",
            "6 24\n",
            "7 31\n",
            "8 39\n",
            "9 48\n",
            "10 58\n",
            "The sum of all the elements of the array is 253\n",
            "Index a: 3\n",
            "Index b: 9\n",
            "The value of the indexes are 9 and 48 and the sum of the two indexes is 57\n"
          ]
        }
      ],
      "source": [
        "integers=[3,4,6,9,13,18,24,31,39,48,58]\n",
        "for index, val in enumerate(integers):\n",
        "  print(index,val)\n",
        "integer=arr\n",
        "sum=0;\n",
        "for i in range(0,len(arr)):    \n",
        "   sum=sum+arr[i];    \n",
        "#for whole index  \n",
        "print(\"The sum of all the elements of the array is \"+str(sum)); \n",
        "\n",
        "#for specific indexes\n",
        "a=int(input(\"Index a: \"))\n",
        "b=int(input(\"Index b: \"))\n",
        "arr_sum=(arr[a]+arr[b])\n",
        "print(\"The value of the indexes are\",arr[a],\"and\",arr[b],\"and the sum of the two indexes is\", arr_sum)"
      ]
    },
    {
      "cell_type": "markdown",
      "source": [
        "2.Write a Python program to append a new item to the end of the array. Original\n",
        "array: numbers = [1, 2, 3, 4, 5, 6, 7, 8, 9, 10]"
      ],
      "metadata": {
        "id": "H_R1VD3vAZw3"
      }
    },
    {
      "cell_type": "code",
      "source": [
        "num=[1, 2, 3, 4, 5, 6, 7, 8, 9, 10]\n",
        "num.append(10.5)\n",
        "print(num)"
      ],
      "metadata": {
        "colab": {
          "base_uri": "https://localhost:8080/"
        },
        "id": "lrgAdOhhH-JJ",
        "outputId": "42230f33-92c4-4814-d809-8e5560db771a"
      },
      "execution_count": 27,
      "outputs": [
        {
          "output_type": "stream",
          "name": "stdout",
          "text": [
            "[1, 2, 3, 4, 5, 6, 7, 8, 9, 10, 10.5]\n"
          ]
        }
      ]
    },
    {
      "cell_type": "markdown",
      "source": [
        "3.Write a Python program to insert a new item before the second element in an\n",
        "existing array. Original array: numbers = [1, 2, 3, 4, 5, 6, 7, 8, 9, 10]"
      ],
      "metadata": {
        "id": "ho9RQCg-Iab2"
      }
    },
    {
      "cell_type": "code",
      "source": [
        "num=[1, 2, 3, 4, 5, 6, 7, 8, 9, 10]\n",
        "num.insert(1,1.5)\n",
        "print(num)"
      ],
      "metadata": {
        "colab": {
          "base_uri": "https://localhost:8080/"
        },
        "id": "VdPqhEciIeRg",
        "outputId": "77480922-16d0-479c-dc78-bf5152abfc89"
      },
      "execution_count": 65,
      "outputs": [
        {
          "output_type": "stream",
          "name": "stdout",
          "text": [
            "[1, 1.5, 2, 3, 4, 5, 6, 7, 8, 9, 10]\n"
          ]
        }
      ]
    },
    {
      "cell_type": "markdown",
      "source": [
        "4.Write a Python program to reverse the order of the items in the array. Original array: numbers = [5, 4, 3, 2, 1]"
      ],
      "metadata": {
        "id": "rezbtSqnIwZE"
      }
    },
    {
      "cell_type": "code",
      "source": [
        "num=[5, 4, 3, 2, 1]\n",
        "num.reverse()\n",
        "print(num)"
      ],
      "metadata": {
        "colab": {
          "base_uri": "https://localhost:8080/"
        },
        "id": "EfUH9YZHI1Jr",
        "outputId": "baf2c8d1-daf1-4222-e465-88b89a654661"
      },
      "execution_count": 66,
      "outputs": [
        {
          "output_type": "stream",
          "name": "stdout",
          "text": [
            "[1, 2, 3, 4, 5]\n"
          ]
        }
      ]
    },
    {
      "cell_type": "markdown",
      "source": [
        "5.Write a Python program to get the length of the array. Original array: numbers =\n",
        "[5, 4, 3, 2, 1]"
      ],
      "metadata": {
        "id": "kXrRF7UQI_QK"
      }
    },
    {
      "cell_type": "code",
      "source": [
        "num=[5, 4, 3, 2, 1]\n",
        "l=len(num)\n",
        "print(l)"
      ],
      "metadata": {
        "colab": {
          "base_uri": "https://localhost:8080/"
        },
        "id": "4lD6yrTbJAT7",
        "outputId": "3c2d0459-9730-4b8b-f56f-9428d84151a4"
      },
      "execution_count": 68,
      "outputs": [
        {
          "output_type": "stream",
          "name": "stdout",
          "text": [
            "5\n"
          ]
        }
      ]
    }
  ]
}